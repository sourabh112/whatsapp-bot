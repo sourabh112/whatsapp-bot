{
 "cells": [
  {
   "cell_type": "code",
   "execution_count": 33,
   "metadata": {},
   "outputs": [],
   "source": [
    "from selenium import webdriver\n",
    "from selenium.webdriver.common.by import By"
   ]
  },
  {
   "cell_type": "code",
   "execution_count": 34,
   "metadata": {},
   "outputs": [],
   "source": [
    "browser = webdriver.Chrome()"
   ]
  },
  {
   "cell_type": "code",
   "execution_count": 35,
   "metadata": {},
   "outputs": [],
   "source": [
    "browser.get(\"https://web.whatsapp.com/\")"
   ]
  },
  {
   "cell_type": "code",
   "execution_count": 4,
   "metadata": {},
   "outputs": [],
   "source": [
    "#browser.find_element_by_class_name(\"homepage-cta-btns\").click()"
   ]
  },
  {
   "cell_type": "code",
   "execution_count": 5,
   "metadata": {},
   "outputs": [],
   "source": [
    "#browser.find_element_by_class_name(\"swal2-confirm\").click()"
   ]
  },
  {
   "cell_type": "code",
   "execution_count": 6,
   "metadata": {},
   "outputs": [],
   "source": [
    "#browser.find_element_by_class_name(\"swal2-confirm\").click()"
   ]
  },
  {
   "cell_type": "code",
   "execution_count": null,
   "metadata": {},
   "outputs": [],
   "source": []
  },
  {
   "cell_type": "code",
   "execution_count": null,
   "metadata": {},
   "outputs": [],
   "source": [
    "#//*[@id=\"pane-side\"]/div[1]/div/div/div[2]"
   ]
  },
  {
   "cell_type": "code",
   "execution_count": null,
   "metadata": {},
   "outputs": [],
   "source": []
  },
  {
   "cell_type": "code",
   "execution_count": 52,
   "metadata": {},
   "outputs": [],
   "source": [
    "#a variable saves the name of the contact you want to send message to\n",
    "a='abhi bhai'\n",
    "browser.find_element(by=By.XPATH, value='//*[@id=\"side\"]/div[1]/div/div/div[2]/div/div[2]').send_keys(a)"
   ]
  },
  {
   "cell_type": "code",
   "execution_count": 54,
   "metadata": {},
   "outputs": [],
   "source": [
    "browser.find_element(by=By.XPATH, value='//*[@id=\"pane-side\"]/div[1]/div/div/div[1]/div'.format(2)).click()"
   ]
  },
  {
   "cell_type": "code",
   "execution_count": null,
   "metadata": {},
   "outputs": [],
   "source": []
  },
  {
   "cell_type": "code",
   "execution_count": 55,
   "metadata": {},
   "outputs": [],
   "source": [
    "import time"
   ]
  },
  {
   "cell_type": "code",
   "execution_count": 57,
   "metadata": {},
   "outputs": [],
   "source": [
    "lst = ['haha haha']\n",
    "for i in range(1, 128):\n",
    "    for a in lst:\n",
    "        browser.find_element(by=By.XPATH, value='//*[@id=\"main\"]/footer/div[1]/div/span[2]/div/div[2]/div[1]').send_keys(a)\n",
    "        # The commented part is when you need to tag someone in group but it's ecxept statement is not yet ready and can cause problem so don't try uncommenting it\n",
    "        # try:\n",
    "            # browser.find_element_by_xpath('//*[@id=\"main\"]/footer/div[4]/div').click()\n",
    "        c = browser.find_element(by=By.XPATH, value=\n",
    "            '//*[@id=\"main\"]/footer/div[1]/div/span[2]/div/div[2]/div[2]')\n",
    "        c.click()\n",
    "        # time.sleep(0.5)"
   ]
  },
  {
   "cell_type": "code",
   "execution_count": 76,
   "metadata": {},
   "outputs": [],
   "source": [
    "browser.find_element_by_xpath('//*[@id=\"main\"]/footer/div[1]/div[1]/div[1]').click()"
   ]
  },
  {
   "cell_type": "code",
   "execution_count": 77,
   "metadata": {},
   "outputs": [],
   "source": [
    "browser.find_element_by_xpath('//*[@id=\"main\"]/footer/div[2]/div/div[3]/div[1]/div[1]/div[1]/div[3]/span').click()"
   ]
  },
  {
   "cell_type": "code",
   "execution_count": 78,
   "metadata": {},
   "outputs": [],
   "source": [
    "for i in range(1,22):\n",
    "    browser.find_element_by_xpath('//*[@id=\"main\"]/footer/div[2]/div/div[3]/div[1]/div[1]/div[2]/div/div/div/div[1]/div/div[4]/div/div/div/span[{}]'.format(i)).click()"
   ]
  },
  {
   "cell_type": "code",
   "execution_count": null,
   "metadata": {},
   "outputs": [],
   "source": [
    "#from here on is some work under progress so please don't uncomment it now"
   ]
  },
  {
   "cell_type": "code",
   "execution_count": 18,
   "metadata": {},
   "outputs": [],
   "source": [
    "#browser.find_element_by_class_name('//*[@id=\"i5\"]/div[3]/div').click()"
   ]
  },
  {
   "cell_type": "code",
   "execution_count": null,
   "metadata": {},
   "outputs": [],
   "source": []
  },
  {
   "cell_type": "code",
   "execution_count": 10,
   "metadata": {},
   "outputs": [],
   "source": [
    "#search.send_keys(\"wikipedia\")"
   ]
  },
  {
   "cell_type": "code",
   "execution_count": 11,
   "metadata": {},
   "outputs": [],
   "source": [
    "#browser.find_element_by_class_name(\"gNO89b\").click()"
   ]
  },
  {
   "cell_type": "code",
   "execution_count": 12,
   "metadata": {},
   "outputs": [],
   "source": [
    "#browser.find_element_by_xpath('//*[@id=\"hdtb-msb-vis\"]/div[4]/a').click()"
   ]
  },
  {
   "cell_type": "code",
   "execution_count": 13,
   "metadata": {},
   "outputs": [],
   "source": [
    "#for i in range(1,10):\n",
    "    #area = '//*[@id=\"islrg\"]/div[1]/div[3]/a[1]/div[1]/img'\n"
   ]
  },
  {
   "cell_type": "code",
   "execution_count": null,
   "metadata": {},
   "outputs": [],
   "source": []
  }
 ],
 "metadata": {
  "kernelspec": {
   "display_name": "Python 3",
   "language": "python",
   "name": "python3"
  },
  "language_info": {
   "codemirror_mode": {
    "name": "ipython",
    "version": 3
   },
   "file_extension": ".py",
   "mimetype": "text/x-python",
   "name": "python",
   "nbconvert_exporter": "python",
   "pygments_lexer": "ipython3",
   "version": "3.8.8"
  }
 },
 "nbformat": 4,
 "nbformat_minor": 4
}
